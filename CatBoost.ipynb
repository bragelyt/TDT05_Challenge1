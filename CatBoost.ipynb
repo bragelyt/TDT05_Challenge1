{
 "cells": [
  {
   "cell_type": "markdown",
   "metadata": {},
   "source": [
    "# Impementation of Catboost"
   ]
  },
  {
   "cell_type": "code",
   "execution_count": 128,
   "metadata": {},
   "outputs": [],
   "source": [
    "import numpy as np\n",
    "import pandas as pd\n",
    "from catboost import CatBoostClassifier\n",
    "from sklearn.model_selection import train_test_split"
   ]
  },
  {
   "cell_type": "code",
   "execution_count": 129,
   "metadata": {},
   "outputs": [],
   "source": [
    "categoricalVars = [0, 1, 5, 7, 9, 11, 12, 14, 15, 23, 24, 27, 2, 3, 13, 18, 20, 26]\n",
    "learningRate = 0.01\n",
    "\n",
    "addHexVars = False\n",
    "addIntCategorcalVars = False\n",
    "iterations = 1200\n",
    "depth = 11\n",
    "seed = 1\n",
    "\n",
    "dataTrain = pd.read_csv(\"data/challenge1_train.csv\")\n",
    "\n",
    "noNans = dataTrain.fillna(0)\n",
    "\n",
    "values = noNans.values\n",
    "X = values[:,2:31]\n",
    "Y = values[:,1]\n"
   ]
  },
  {
   "cell_type": "code",
   "execution_count": 130,
   "metadata": {},
   "outputs": [],
   "source": [
    "intVars = [6, 8, 21, 22, 28]\n",
    "\n",
    "if addIntCategorcalVars:\n",
    "    for col in intVars:\n",
    "        categoricalVars.append(col)\n",
    "        for i, item in enumerate(X[:,col]):\n",
    "            X[:,col][i] = int(item)"
   ]
  },
  {
   "cell_type": "code",
   "execution_count": 137,
   "metadata": {},
   "outputs": [],
   "source": [
    "hexVars = [2, 3, 13, 18, 20, 26]\n",
    "\n",
    "if addHexVars:\n",
    "    for col in hexVars:\n",
    "        categoricalVars.remove(col)\n",
    "        for i, item in enumerate(X[:,col]):\n",
    "            if \"E+\" in str(item):\n",
    "                item = int(float(str(item)))\n",
    "            X[:,col][i] = int(str(item), 16)"
   ]
  },
  {
   "cell_type": "code",
   "execution_count": 132,
   "metadata": {},
   "outputs": [],
   "source": [
    "model = CatBoostClassifier(\n",
    "    iterations = iterations,\n",
    "    depth = depth,\n",
    "    learning_rate=learningRate,\n",
    "    eval_metric=\"AUC\",\n",
    "    early_stopping_rounds=100,\n",
    "    loss_function='Logloss',\n",
    "    verbose=100\n",
    ")"
   ]
  },
  {
   "cell_type": "code",
   "execution_count": 133,
   "metadata": {},
   "outputs": [
    {
     "data": {
      "application/vnd.jupyter.widget-view+json": {
       "model_id": "c732a86e60a6475cb56d8d6374d5ae71",
       "version_major": 2,
       "version_minor": 0
      },
      "text/plain": [
       "MetricVisualizer(layout=Layout(align_self='stretch', height='500px'))"
      ]
     },
     "metadata": {},
     "output_type": "display_data"
    },
    {
     "name": "stdout",
     "output_type": "stream",
     "text": [
      "0:\ttest: 0.6204529\tbest: 0.6204529 (0)\ttotal: 639ms\tremaining: 12m 46s\n",
      "100:\ttest: 0.7240517\tbest: 0.7240686 (99)\ttotal: 1m 37s\tremaining: 17m 38s\n",
      "200:\ttest: 0.7388633\tbest: 0.7388633 (200)\ttotal: 5m 4s\tremaining: 25m 12s\n",
      "300:\ttest: 0.7451189\tbest: 0.7451189 (300)\ttotal: 7m 58s\tremaining: 23m 49s\n",
      "400:\ttest: 0.7477999\tbest: 0.7477999 (400)\ttotal: 10m 8s\tremaining: 20m 12s\n",
      "500:\ttest: 0.7500954\tbest: 0.7500954 (500)\ttotal: 12m 20s\tremaining: 17m 13s\n",
      "600:\ttest: 0.7515287\tbest: 0.7516091 (595)\ttotal: 14m 22s\tremaining: 14m 19s\n",
      "700:\ttest: 0.7527182\tbest: 0.7527524 (697)\ttotal: 16m 29s\tremaining: 11m 44s\n",
      "800:\ttest: 0.7533922\tbest: 0.7534176 (798)\ttotal: 18m 49s\tremaining: 9m 22s\n",
      "900:\ttest: 0.7538686\tbest: 0.7539546 (894)\ttotal: 20m 52s\tremaining: 6m 55s\n",
      "1000:\ttest: 0.7538888\tbest: 0.7541111 (980)\ttotal: 23m 2s\tremaining: 4m 34s\n",
      "1100:\ttest: 0.7542331\tbest: 0.7542331 (1100)\ttotal: 25m 19s\tremaining: 2m 16s\n",
      "1199:\ttest: 0.7544502\tbest: 0.7544809 (1192)\ttotal: 27m 46s\tremaining: 0us\n",
      "\n",
      "bestTest = 0.7544809339\n",
      "bestIteration = 1192\n",
      "\n",
      "Shrink model to first 1193 iterations.\n"
     ]
    },
    {
     "data": {
      "text/plain": [
       "<catboost.core.CatBoostClassifier at 0x267dd722a60>"
      ]
     },
     "execution_count": 133,
     "metadata": {},
     "output_type": "execute_result"
    }
   ],
   "source": [
    "xTrain, xTest, yTrain, yTest = train_test_split(X, Y, test_size=0.15, random_state=seed)\n",
    "model.fit(xTrain, yTrain, cat_features=categoricalVars, eval_set=(xTest, yTest), plot = True)"
   ]
  },
  {
   "cell_type": "code",
   "execution_count": 134,
   "metadata": {},
   "outputs": [],
   "source": [
    "testData = pd.read_csv(\"data/challenge1_test.csv\").fillna(0)\n",
    "testData.drop(columns=testData.columns[0], axis=1, inplace=True)\n",
    "testData = testData.values\n",
    "\n",
    "if addIntCategorcalVars:\n",
    "    for col in intVars:\n",
    "        for i, item in enumerate(testData[:,col]):\n",
    "            testData[:,col][i] = int(item)\n",
    "\n",
    "if addHexVars:\n",
    "    for col in hexVars:\n",
    "        for i, item in enumerate(testData[:,col]):\n",
    "            if \"E+\" in str(item):\n",
    "                item = int(float(str(item)))\n",
    "            testData[:,col][i] = int(str(item), 16)\n"
   ]
  },
  {
   "cell_type": "code",
   "execution_count": 135,
   "metadata": {},
   "outputs": [
    {
     "data": {
      "text/plain": [
       "array([[0.70340081, 0.29659919],\n",
       "       [0.87834605, 0.12165395],\n",
       "       [0.86493175, 0.13506825],\n",
       "       ...,\n",
       "       [0.92790231, 0.07209769],\n",
       "       [0.87551131, 0.12448869],\n",
       "       [0.90200731, 0.09799269]])"
      ]
     },
     "execution_count": 135,
     "metadata": {},
     "output_type": "execute_result"
    }
   ],
   "source": [
    "\n",
    "predictions = model.predict_proba(testData)\n",
    "predictions"
   ]
  },
  {
   "cell_type": "code",
   "execution_count": 136,
   "metadata": {},
   "outputs": [],
   "source": [
    "out = {\"id\": [], \"target\": []}\n",
    "for i, prediction in enumerate(predictions):\n",
    "    out[\"id\"].append(i+50000)\n",
    "    out[\"target\"].append(prediction[1])\n",
    "\n",
    "df = pd.DataFrame(out) \n",
    "df.to_csv('Predictions.csv', index=False) "
   ]
  }
 ],
 "metadata": {
  "interpreter": {
   "hash": "881bb3b54a64582659086eab605df57fb5ff1007581fc607c44d3359ff5b16da"
  },
  "kernelspec": {
   "display_name": "Python 3.8.3 64-bit",
   "name": "python3"
  },
  "language_info": {
   "codemirror_mode": {
    "name": "ipython",
    "version": 3
   },
   "file_extension": ".py",
   "mimetype": "text/x-python",
   "name": "python",
   "nbconvert_exporter": "python",
   "pygments_lexer": "ipython3",
   "version": "3.8.3"
  }
 },
 "nbformat": 4,
 "nbformat_minor": 2
}
