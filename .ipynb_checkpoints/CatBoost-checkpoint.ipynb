{
 "cells": [
  {
   "cell_type": "markdown",
   "metadata": {},
   "source": [
    "# Impementation of Catboost"
   ]
  },
  {
   "cell_type": "code",
   "execution_count": 10,
   "metadata": {},
   "outputs": [],
   "source": [
    "import numpy as np\n",
    "import pandas as pd\n",
    "from catboost import CatBoostClassifier\n",
    "from sklearn.model_selection import train_test_split"
   ]
  },
  {
   "cell_type": "code",
   "execution_count": 16,
   "metadata": {},
   "outputs": [],
   "source": [
    "categoricalVars = [0, 1, 5, 7, 9, 11, 12, 14, 15, 23, 24, 27] #  2, 3, 13, 18, 20, 26,  \n",
    "hexVars = [2, 3, 13, 18, 20, 26]\n",
    "learningRate = 0.01\n",
    "\n",
    "dataTrain = pd.read_csv(\"data/challenge1_train.csv\")\n",
    "\n",
    "noNans = dataTrain.fillna(0)\n",
    "values = noNans.values\n",
    "X = values[:,2:30]\n",
    "Y = values[:,1]"
   ]
  },
  {
   "cell_type": "code",
   "execution_count": null,
   "metadata": {},
   "outputs": [],
   "source": []
  },
  {
   "cell_type": "code",
   "execution_count": 17,
   "metadata": {},
   "outputs": [],
   "source": [
    "model = CatBoostClassifier(\n",
    "    iterations = 1500,\n",
    "    depth=11,\n",
    "    learning_rate=learningRate,\n",
    "    eval_metric=\"AUC\",\n",
    "    early_stopping_rounds=100,\n",
    "    loss_function='Logloss',\n",
    "    verbose=100\n",
    ")"
   ]
  },
  {
   "cell_type": "code",
   "execution_count": 21,
   "metadata": {},
   "outputs": [
    {
     "data": {
      "application/vnd.jupyter.widget-view+json": {
       "model_id": "a276905879334cd18fa4e135a25fa218",
       "version_major": 2,
       "version_minor": 0
      },
      "text/plain": [
       "MetricVisualizer(layout=Layout(align_self='stretch', height='500px'))"
      ]
     },
     "metadata": {},
     "output_type": "display_data"
    },
    {
     "name": "stdout",
     "output_type": "stream",
     "text": [
      "0:\ttest: 0.6804021\tbest: 0.6804021 (0)\ttotal: 330ms\tremaining: 8m 15s\n",
      "100:\ttest: 0.7239314\tbest: 0.7239314 (100)\ttotal: 24.4s\tremaining: 5m 38s\n",
      "200:\ttest: 0.7369634\tbest: 0.7369634 (200)\ttotal: 56.2s\tremaining: 6m 3s\n",
      "300:\ttest: 0.7430091\tbest: 0.7430091 (300)\ttotal: 1m 30s\tremaining: 6m 1s\n",
      "400:\ttest: 0.7460250\tbest: 0.7460250 (400)\ttotal: 2m 5s\tremaining: 5m 44s\n",
      "500:\ttest: 0.7481940\tbest: 0.7482059 (498)\ttotal: 2m 41s\tremaining: 5m 21s\n",
      "600:\ttest: 0.7492229\tbest: 0.7492229 (600)\ttotal: 3m 17s\tremaining: 4m 55s\n",
      "700:\ttest: 0.7500155\tbest: 0.7500610 (694)\ttotal: 3m 51s\tremaining: 4m 23s\n",
      "800:\ttest: 0.7507974\tbest: 0.7508154 (797)\ttotal: 4m 28s\tremaining: 3m 54s\n",
      "900:\ttest: 0.7516322\tbest: 0.7516322 (900)\ttotal: 5m 4s\tremaining: 3m 22s\n",
      "1000:\ttest: 0.7521979\tbest: 0.7522338 (986)\ttotal: 5m 42s\tremaining: 2m 50s\n",
      "1100:\ttest: 0.7526700\tbest: 0.7527192 (1097)\ttotal: 6m 22s\tremaining: 2m 18s\n",
      "1200:\ttest: 0.7533012\tbest: 0.7533370 (1197)\ttotal: 7m 3s\tremaining: 1m 45s\n",
      "1300:\ttest: 0.7534993\tbest: 0.7534993 (1300)\ttotal: 7m 44s\tremaining: 1m 11s\n",
      "1400:\ttest: 0.7535865\tbest: 0.7536736 (1364)\ttotal: 8m 25s\tremaining: 35.7s\n",
      "1499:\ttest: 0.7534835\tbest: 0.7537026 (1421)\ttotal: 9m 4s\tremaining: 0us\n",
      "\n",
      "bestTest = 0.753702603\n",
      "bestIteration = 1421\n",
      "\n",
      "Shrink model to first 1422 iterations.\n"
     ]
    },
    {
     "data": {
      "text/plain": [
       "<catboost.core.CatBoostClassifier at 0x20a0b10dee0>"
      ]
     },
     "execution_count": 21,
     "metadata": {},
     "output_type": "execute_result"
    }
   ],
   "source": [
    "xTrain, xTest, yTrain, yTest = train_test_split(X, Y, test_size=0.2)\n",
    "\n",
    "model.fit(xTrain, yTrain, cat_features=categoricalVars, eval_set=(xTest, yTest), plot = True)"
   ]
  },
  {
   "cell_type": "code",
   "execution_count": 22,
   "metadata": {},
   "outputs": [
    {
     "data": {
      "text/plain": [
       "array([[0.76454325, 0.23545675],\n",
       "       [0.85340771, 0.14659229],\n",
       "       [0.86620983, 0.13379017],\n",
       "       ...,\n",
       "       [0.92945754, 0.07054246],\n",
       "       [0.88349978, 0.11650022],\n",
       "       [0.90613553, 0.09386447]])"
      ]
     },
     "execution_count": 22,
     "metadata": {},
     "output_type": "execute_result"
    }
   ],
   "source": [
    "testData = pd.read_csv(\"data/challenge1_test.csv\").fillna(0)\n",
    "testData.drop(columns=testData.columns[0], axis=1, inplace=True)\n",
    "predictions = model.predict_proba(testData)\n",
    "predictions"
   ]
  },
  {
   "cell_type": "code",
   "execution_count": 23,
   "metadata": {},
   "outputs": [],
   "source": [
    "out = {\"id\": [], \"target\": []}\n",
    "for i, prediction in enumerate(predictions):\n",
    "    out[\"id\"].append(i+50000)\n",
    "    out[\"target\"].append(prediction[1])\n",
    "\n",
    "df = pd.DataFrame(out) \n",
    "df.to_csv('Predictions.csv', index=False) "
   ]
  }
 ],
 "metadata": {
  "interpreter": {
   "hash": "a4a4e8c0e9e6bfd3d095881ad47ec74045d82e6a66e0ece2d21872c41ff48211"
  },
  "kernelspec": {
   "display_name": "Python 3",
   "language": "python",
   "name": "python3"
  },
  "language_info": {
   "codemirror_mode": {
    "name": "ipython",
    "version": 3
   },
   "file_extension": ".py",
   "mimetype": "text/x-python",
   "name": "python",
   "nbconvert_exporter": "python",
   "pygments_lexer": "ipython3",
   "version": "3.8.3"
  }
 },
 "nbformat": 4,
 "nbformat_minor": 2
}
